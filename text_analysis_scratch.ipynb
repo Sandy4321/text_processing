{
 "cells": [
  {
   "cell_type": "code",
   "execution_count": 224,
   "metadata": {
    "collapsed": false
   },
   "outputs": [],
   "source": [
    "import nltk\n",
    "import string\n",
    "from progressbar import ProgressBar\n",
    "from pymongo import MongoClient\n",
    "\n",
    "from sklearn.feature_extraction.text import TfidfVectorizer\n",
    "from nltk.stem.porter import PorterStemmer\n",
    "from nltk.stem.snowball import SnowballStemmer"
   ]
  },
  {
   "cell_type": "code",
   "execution_count": 225,
   "metadata": {
    "collapsed": false
   },
   "outputs": [],
   "source": [
    "# nltk.download()"
   ]
  },
  {
   "cell_type": "code",
   "execution_count": 226,
   "metadata": {
    "collapsed": true
   },
   "outputs": [],
   "source": [
    "from nltk.collocations import *\n",
    "bigram_measures = nltk.collocations.BigramAssocMeasures()\n",
    "trigram_measures = nltk.collocations.TrigramAssocMeasures()"
   ]
  },
  {
   "cell_type": "code",
   "execution_count": 227,
   "metadata": {
    "collapsed": false
   },
   "outputs": [],
   "source": [
    "client = MongoClient()\n",
    "db = client.legislation\n",
    "bills = db.bills\n",
    "\n",
    "# stemmer = PorterStemmer()\n",
    "stemmer = SnowballStemmer('english')\n",
    "pbar = ProgressBar()"
   ]
  },
  {
   "cell_type": "code",
   "execution_count": 228,
   "metadata": {
    "collapsed": true
   },
   "outputs": [],
   "source": [
    "def stem_tokens(tokens, stemmer):\n",
    "    stemmed = []\n",
    "    for item in tokens:\n",
    "        stemmed.append(stemmer.stem(item))\n",
    "    return stemmed"
   ]
  },
  {
   "cell_type": "code",
   "execution_count": 229,
   "metadata": {
    "collapsed": false
   },
   "outputs": [],
   "source": [
    "def tokenize(text):\n",
    "    tokens = nltk.word_tokenize(text)\n",
    "    stems = stem_tokens(tokens, stemmer)\n",
    "    return stems"
   ]
  },
  {
   "cell_type": "code",
   "execution_count": 230,
   "metadata": {
    "collapsed": false
   },
   "outputs": [
    {
     "data": {
      "text/plain": [
       "['hi',\n",
       " 'hows',\n",
       " 'going',\n",
       " 'today',\n",
       " 'lovely',\n",
       " \"n't\",\n",
       " 'tell',\n",
       " 'name',\n",
       " ('hi', 'hows'),\n",
       " ('lovely', \"n't\"),\n",
       " ('tell', 'name'),\n",
       " ('going', 'today', 'lovely'),\n",
       " ('hi', 'hows', 'going'),\n",
       " ('hows', 'going', 'today'),\n",
       " ('lovely', \"n't\", 'tell'),\n",
       " (\"n't\", 'tell', 'name'),\n",
       " ('today', 'lovely', \"n't\")]"
      ]
     },
     "execution_count": 230,
     "metadata": {},
     "output_type": "execute_result"
    }
   ],
   "source": [
    "from nltk.corpus import stopwords\n",
    "\n",
    "def analyze(text):\n",
    "    # preprocess\n",
    "    cleaned = text.lower()\n",
    "    # remove stop words and punctuation\n",
    "    tokens = nltk.word_tokenize(text)\n",
    "    stop = stopwords.words('english') + list(string.punctuation)\n",
    "    stopped = [i for i in tokens if i not in stop]\n",
    "    # stem tokens\n",
    "    stems = stem_tokens(tokens, stemmer)\n",
    "    # get bigrams, trigrams\n",
    "    bigrams = BigramCollocationFinder.from_words(stopped)\n",
    "    trigrams = TrigramCollocationFinder.from_words(stopped)\n",
    "    # exclude bigrams if included in trigram\n",
    "    # only bigrams that appear 3+ times\n",
    "#     bigrams.apply_freq_filter(3)\n",
    "#     trigrams.apply_freq_filter(3)\n",
    "    # return the 10 n-grams with the highest PMI\n",
    "    bigrams = bigrams.nbest(bigram_measures.pmi, 10)\n",
    "    trigrams = trigrams.nbest(trigram_measures.pmi, 10)\n",
    "    exclude = set()\n",
    "    for g in trigrams:\n",
    "        exclude |= {g[:2], g[1:]}\n",
    "    for i, b in enumerate(bigrams):\n",
    "        if b in exclude: bigrams.pop(i)\n",
    "#     bigrams = [i for i in bigrams if all(word in bigrams for word in trigrams)]\n",
    "    tokens = stopped + bigrams + trigrams\n",
    "    return tokens\n",
    "\n",
    "analyze(\"hi there hows it going today. lovely isn't it? how about you tell me your name\")\n",
    "\n"
   ]
  },
  {
   "cell_type": "code",
   "execution_count": 286,
   "metadata": {
    "collapsed": false
   },
   "outputs": [],
   "source": [
    "selection = list(bills.find({},{\"text_versions\":1, \"bill_id\":1}).limit(1000))"
   ]
  },
  {
   "cell_type": "code",
   "execution_count": 287,
   "metadata": {
    "collapsed": false
   },
   "outputs": [],
   "source": [
    "texts = [(i[\"bill_id\"], i['text_versions'].itervalues().next()) for i in selection]\n",
    "# make lowercase, remove punctuation\n",
    "cleaned = [(bill, text\n",
    "               .encode('utf-8')\n",
    "               .lower()\n",
    "               .translate(None, string.punctuation))\n",
    "               for bill, text in texts]"
   ]
  },
  {
   "cell_type": "code",
   "execution_count": 233,
   "metadata": {
    "collapsed": true
   },
   "outputs": [],
   "source": [
    "#really only want to stem and remove punctuation when predicting. not when summarizing"
   ]
  },
  {
   "cell_type": "code",
   "execution_count": 288,
   "metadata": {
    "collapsed": false
   },
   "outputs": [],
   "source": [
    "# vectorizer = TfidfVectorizer(sublinear_tf=True, analyzer=analyze)\n",
    "vectorizer = TfidfVectorizer(min_df=2, sublinear_tf=True, tokenizer=tokenize, stop_words='english', ngram_range=(1,3))\n",
    "# vectorizer = TfidfVectorizer(stop_words='english', ngram_range=(1,3), lowercase=True, )\n",
    "docs = vectorizer.fit_transform([i[1] for i in cleaned])"
   ]
  },
  {
   "cell_type": "code",
   "execution_count": 289,
   "metadata": {
    "collapsed": false
   },
   "outputs": [
    {
     "data": {
      "text/plain": [
       "90094"
      ]
     },
     "execution_count": 289,
     "metadata": {},
     "output_type": "execute_result"
    }
   ],
   "source": [
    "len(vectorizer.get_feature_names())"
   ]
  },
  {
   "cell_type": "code",
   "execution_count": 263,
   "metadata": {
    "collapsed": false
   },
   "outputs": [
    {
     "name": "stdout",
     "output_type": "stream",
     "text": [
      "\n",
      "Top words in bill: hr4053-106\n",
      "Word: republ, TF-IDF: 0.1186\n",
      "Word: democrat, TF-IDF: 0.0975\n",
      "Word: democraci, TF-IDF: 0.0965\n",
      "Word: kosovo, TF-IDF: 0.0955\n",
      "Word: act 1989, TF-IDF: 0.0832\n",
      "Word: tribun, TF-IDF: 0.0802\n",
      "Word: 1989, TF-IDF: 0.0786\n",
      "Word: seed, TF-IDF: 0.0786\n",
      "Word: media, TF-IDF: 0.0786\n",
      "\n",
      "Top words in bill: hr4009-106\n",
      "Word: gun, TF-IDF: 0.0775\n",
      "Word: firearm, TF-IDF: 0.0697\n",
      "Word: handgun, TF-IDF: 0.0664\n",
      "Word: licens dealer, TF-IDF: 0.0628\n",
      "Word: licens manufactur, TF-IDF: 0.0628\n",
      "Word: licens manufactur licens, TF-IDF: 0.0628\n",
      "Word: dealer, TF-IDF: 0.0628\n",
      "Word: licens import licens, TF-IDF: 0.0628\n",
      "Word: ammunit, TF-IDF: 0.0628\n",
      "\n",
      "Top words in bill: hr4013-106\n",
      "Word: nutrient, TF-IDF: 0.1161\n",
      "Word: sediment, TF-IDF: 0.1146\n",
      "Word: upper, TF-IDF: 0.1142\n",
      "Word: basin, TF-IDF: 0.0994\n",
      "Word: mississippi, TF-IDF: 0.0933\n",
      "Word: river, TF-IDF: 0.0874\n",
      "Word: advisori, TF-IDF: 0.0734\n",
      "Word: work group, TF-IDF: 0.0729\n",
      "Word: secretari agricultur, TF-IDF: 0.0706\n",
      "\n",
      "Top words in bill: hr4029-106\n",
      "Word: alzheim, TF-IDF: 0.1026\n",
      "Word: medicar, TF-IDF: 0.0915\n",
      "Word: alzheim diseas, TF-IDF: 0.0856\n",
      "Word: care insur, TF-IDF: 0.0835\n",
      "Word: caregiv, TF-IDF: 0.0811\n",
      "Word: medicar program, TF-IDF: 0.0811\n",
      "Word: longterm, TF-IDF: 0.0772\n",
      "Word: medicar beneficiari, TF-IDF: 0.0766\n",
      "Word: physician, TF-IDF: 0.0759\n",
      "\n",
      "Top words in bill: hr4037-106\n",
      "Word: candid, TF-IDF: 0.078\n",
      "Word: polit committe, TF-IDF: 0.0754\n",
      "Word: disburs, TF-IDF: 0.0732\n",
      "Word: campaign, TF-IDF: 0.0699\n",
      "Word: contribut expenditur, TF-IDF: 0.0652\n",
      "Word: elect, TF-IDF: 0.0633\n",
      "Word: complaint, TF-IDF: 0.063\n",
      "Word: elect campaign, TF-IDF: 0.0623\n",
      "Word: file report, TF-IDF: 0.0623\n",
      "\n",
      "Top words in bill: hr4041-106\n",
      "Word: tobacco, TF-IDF: 0.1285\n",
      "Word: manufactur, TF-IDF: 0.0898\n",
      "Word: survey, TF-IDF: 0.0784\n",
      "Word: retail, TF-IDF: 0.0756\n",
      "Word: child, TF-IDF: 0.0724\n",
      "Word: price increas, TF-IDF: 0.0712\n",
      "Word: advertis, TF-IDF: 0.0695\n",
      "Word: 21 usc, TF-IDF: 0.0695\n",
      "Word: baselin, TF-IDF: 0.0688\n",
      "\n",
      "Top words in bill: hr4046-106\n",
      "Word: fisheri, TF-IDF: 0.1256\n",
      "Word: fish, TF-IDF: 0.1052\n",
      "Word: ecosystem, TF-IDF: 0.1016\n",
      "Word: fisheri manag, TF-IDF: 0.0963\n",
      "Word: conserv manag, TF-IDF: 0.095\n",
      "Word: speci, TF-IDF: 0.092\n",
      "Word: 16 usc, TF-IDF: 0.0891\n",
      "Word: marin, TF-IDF: 0.0823\n",
      "Word: conserv, TF-IDF: 0.08\n",
      "\n",
      "Top words in bill: hr4049-106\n",
      "Word: privaci, TF-IDF: 0.0968\n",
      "Word: person inform, TF-IDF: 0.0882\n",
      "Word: individu privaci, TF-IDF: 0.0813\n",
      "Word: privaci protect, TF-IDF: 0.0771\n",
      "Word: internet, TF-IDF: 0.0761\n",
      "Word: member commiss, TF-IDF: 0.0712\n",
      "Word: commiss, TF-IDF: 0.0708\n",
      "Word: commiss shall, TF-IDF: 0.0705\n",
      "Word: protect individu, TF-IDF: 0.065\n",
      "\n",
      "Top words in bill: hr4051-106\n",
      "Word: violent crime, TF-IDF: 0.1147\n",
      "Word: firearm, TF-IDF: 0.1053\n",
      "Word: violent, TF-IDF: 0.1017\n",
      "Word: subtitl, TF-IDF: 0.0951\n",
      "Word: crime, TF-IDF: 0.091\n",
      "Word: grant sec, TF-IDF: 0.0832\n",
      "Word: elig state, TF-IDF: 0.0829\n",
      "Word: bureau investig, TF-IDF: 0.0772\n",
      "Word: sentenc term imprison, TF-IDF: 0.0772\n",
      "\n",
      "Top words in bill: hr4205-107\n",
      "Word: public hous, TF-IDF: 0.1321\n",
      "Word: hous agenc, TF-IDF: 0.1247\n",
      "Word: public hous agenc, TF-IDF: 0.1247\n",
      "Word: afford hous, TF-IDF: 0.1106\n",
      "Word: rental assist, TF-IDF: 0.1092\n",
      "Word: unus, TF-IDF: 0.1061\n",
      "Word: particip jurisdict, TF-IDF: 0.1057\n",
      "Word: rental, TF-IDF: 0.1039\n",
      "Word: home invest, TF-IDF: 0.1018\n",
      "\n",
      "Top words in bill: hr4209-107\n",
      "Word: microenterpris, TF-IDF: 0.1449\n",
      "Word: poverti, TF-IDF: 0.1322\n",
      "Word: act 1961, TF-IDF: 0.1097\n",
      "Word: foreign assist act, TF-IDF: 0.1097\n",
      "Word: 1961, TF-IDF: 0.1097\n",
      "Word: assist act 1961, TF-IDF: 0.1097\n",
      "Word: foreign assist, TF-IDF: 0.1097\n",
      "Word: client, TF-IDF: 0.1081\n",
      "Word: method, TF-IDF: 0.1037\n",
      "\n",
      "Top words in bill: hr421-107\n",
      "Word: safeti offic, TF-IDF: 0.1284\n",
      "Word: public safeti offic, TF-IDF: 0.1284\n",
      "Word: public safeti, TF-IDF: 0.1225\n",
      "Word: teacher public, TF-IDF: 0.1212\n",
      "Word: discount, TF-IDF: 0.1195\n",
      "Word: teacher, TF-IDF: 0.1059\n",
      "Word: singl famili, TF-IDF: 0.0942\n",
      "Word: agenc jurisdict includ, TF-IDF: 0.0858\n",
      "Word: downpay, TF-IDF: 0.0858\n",
      "\n",
      "Top words in bill: hr4210-107\n",
      "Word: vocat, TF-IDF: 0.08\n",
      "Word: hardship, TF-IDF: 0.0797\n",
      "Word: inflat, TF-IDF: 0.0768\n",
      "Word: secur act 42, TF-IDF: 0.0765\n",
      "Word: postsecondari, TF-IDF: 0.0755\n",
      "Word: state plan, TF-IDF: 0.0747\n",
      "Word: train includ, TF-IDF: 0.0747\n",
      "Word: educ train, TF-IDF: 0.0743\n",
      "Word: barrier, TF-IDF: 0.0704\n",
      "\n",
      "Top words in bill: hr4230-107\n",
      "Word: liquid, TF-IDF: 0.2827\n",
      "Word: entri, TF-IDF: 0.2543\n",
      "Word: custom, TF-IDF: 0.1848\n",
      "Word: state relat, TF-IDF: 0.172\n",
      "Word: unit state relat, TF-IDF: 0.172\n",
      "Word: date entri, TF-IDF: 0.1625\n",
      "Word: prepar, TF-IDF: 0.1529\n",
      "Word: classifi, TF-IDF: 0.1322\n",
      "Word: schedul, TF-IDF: 0.1263\n",
      "\n",
      "Top words in bill: hr425-107\n",
      "Word: afford hous, TF-IDF: 0.1034\n",
      "Word: lowincom, TF-IDF: 0.1032\n",
      "Word: afford, TF-IDF: 0.0923\n",
      "Word: project meet requir, TF-IDF: 0.0839\n",
      "Word: project meet, TF-IDF: 0.0839\n",
      "Word: dwell unit, TF-IDF: 0.081\n",
      "Word: grant act, TF-IDF: 0.081\n",
      "Word: rent, TF-IDF: 0.0793\n",
      "Word: dwell, TF-IDF: 0.0778\n",
      "\n",
      "Top words in bill: hr429-107\n",
      "Word: motiv, TF-IDF: 0.1132\n",
      "Word: gender, TF-IDF: 0.1036\n",
      "Word: violenc, TF-IDF: 0.1018\n",
      "Word: feder civil, TF-IDF: 0.0996\n",
      "Word: civil remedi, TF-IDF: 0.0996\n",
      "Word: crime violenc, TF-IDF: 0.0981\n",
      "Word: victim, TF-IDF: 0.0893\n",
      "Word: interst foreign commerc, TF-IDF: 0.0863\n",
      "Word: interst foreign, TF-IDF: 0.0863\n",
      "\n",
      "Top words in bill: hr430-107\n",
      "Word: feder elect, TF-IDF: 0.1077\n",
      "Word: feder elect commiss, TF-IDF: 0.0964\n",
      "Word: elect commiss, TF-IDF: 0.0964\n",
      "Word: elect, TF-IDF: 0.0824\n",
      "Word: 3 member, TF-IDF: 0.0783\n",
      "Word: conduct feder, TF-IDF: 0.078\n",
      "Word: commiss, TF-IDF: 0.0749\n",
      "Word: commiss shall, TF-IDF: 0.0737\n",
      "Word: qualifi state, TF-IDF: 0.0731\n",
      "\n",
      "Top words in bill: hr4312-107\n",
      "Word: crop, TF-IDF: 0.1469\n",
      "Word: produc farm, TF-IDF: 0.1281\n",
      "Word: farm, TF-IDF: 0.1191\n",
      "Word: commod, TF-IDF: 0.1118\n",
      "Word: acreag, TF-IDF: 0.1092\n",
      "Word: commod credit corpor, TF-IDF: 0.1092\n",
      "Word: credit corpor, TF-IDF: 0.1092\n",
      "Word: commod credit, TF-IDF: 0.1092\n",
      "Word: secretari shall use, TF-IDF: 0.1037\n",
      "\n",
      "Top words in bill: hr436-107\n",
      "Word: adjust gross, TF-IDF: 0.1573\n",
      "Word: deduct, TF-IDF: 0.1527\n",
      "Word: adjust gross incom, TF-IDF: 0.1439\n",
      "Word: modifi adjust gross, TF-IDF: 0.1339\n",
      "Word: modifi adjust, TF-IDF: 0.1339\n",
      "Word: threshold, TF-IDF: 0.1208\n",
      "Word: allow deduct, TF-IDF: 0.1161\n",
      "Word: phase, TF-IDF: 0.1161\n",
      "Word: gross incom, TF-IDF: 0.1117\n",
      "\n",
      "Top words in bill: hr437-107\n",
      "Word: minimum tax, TF-IDF: 0.102\n",
      "Word: altern minimum tax, TF-IDF: 0.0908\n",
      "Word: altern minimum, TF-IDF: 0.0905\n",
      "Word: 55, TF-IDF: 0.085\n",
      "Word: tax liabil, TF-IDF: 0.0843\n",
      "Word: regular tax, TF-IDF: 0.08\n",
      "Word: amend strike paragraph, TF-IDF: 0.0782\n",
      "Word: allow subpart, TF-IDF: 0.0768\n",
      "Word: credit allow subpart, TF-IDF: 0.0768\n"
     ]
    }
   ],
   "source": [
    "feature_names = vectorizer.get_feature_names()\n",
    "for index, doc in enumerate(docs):\n",
    "    if index == 20: break\n",
    "    print\n",
    "    print(\"Top words in bill: {0}\".format(cleaned[index][0]))\n",
    "    scores = {feature_names[col]: doc[0, col] for col in doc.nonzero()[1]}\n",
    "    sorted_words = sorted(scores.items(), key=lambda x: x[1], reverse=True)\n",
    "    for word, score in sorted_words[:9]:\n",
    "         print(\"Word: {}, TF-IDF: {}\".format(word, round(score, 4)))"
   ]
  },
  {
   "cell_type": "code",
   "execution_count": 290,
   "metadata": {
    "collapsed": false
   },
   "outputs": [
    {
     "data": {
      "text/plain": [
       "[('legal', 'protection'),\n",
       " ('american', 'university'),\n",
       " ('nongovernmental', 'organizations'),\n",
       " ('north', 'atlantic'),\n",
       " ('atlantic', 'treaty'),\n",
       " ('less', 'than'),\n",
       " ('marketbased', 'economy'),\n",
       " ('equitable', 'burdensharing'),\n",
       " ('treaty', 'organization'),\n",
       " ('organization', 'nato')]"
      ]
     },
     "execution_count": 290,
     "metadata": {},
     "output_type": "execute_result"
    }
   ],
   "source": [
    "#returns the most interesting collocations according to frequency and pmi\n",
    "# change this to read in your data\n",
    "finder = BigramCollocationFinder.from_words(\n",
    "    nltk.word_tokenize(cleaned[0][1])\n",
    "    )\n",
    "\n",
    "# only bigrams that appear 3+ times\n",
    "finder.apply_freq_filter(3) \n",
    "\n",
    "# return the 10 n-grams with the highest PMI\n",
    "finder.nbest(bigram_measures.pmi, 10) "
   ]
  },
  {
   "cell_type": "code",
   "execution_count": 291,
   "metadata": {
    "collapsed": false
   },
   "outputs": [
    {
     "data": {
      "text/plain": [
       "[('in', 'the', 'of'),\n",
       " ('of', 'the', 'of'),\n",
       " ('of', 'the', 'republic'),\n",
       " ('republic', 'of', 'montenegro'),\n",
       " ('republic', 'of', 'the'),\n",
       " ('the', 'of', 'montenegro'),\n",
       " ('the', 'of', 'serbia'),\n",
       " ('the', 'of', 'the'),\n",
       " ('the', 'republic', 'montenegro'),\n",
       " ('the', 'republic', 'of')]"
      ]
     },
     "execution_count": 291,
     "metadata": {},
     "output_type": "execute_result"
    }
   ],
   "source": [
    "# top four trigrams spanning five words\n",
    "finder = TrigramCollocationFinder.from_words(\n",
    "    nltk.word_tokenize(cleaned[0][1]), window_size=5)\n",
    "# filter results to allow 'and' to appear between words but not on the edge\n",
    "finder.apply_ngram_filter(lambda w1, w2, w3: 'and' in (w1, w3))\n",
    "sorted(finder.nbest(trigram_measures.raw_freq, 10))\n"
   ]
  },
  {
   "cell_type": "code",
   "execution_count": 292,
   "metadata": {
    "collapsed": false
   },
   "outputs": [
    {
     "name": "stdout",
     "output_type": "stream",
     "text": [
      "Displaying 21 of 21 matches:\n",
      "ies of southeastern europe from the amount appropriated for fiscal year 2001 t\n",
      " of the republic of serbia from the amount appropriated for fiscal year 2001 t\n",
      "ctly humanitarian purposes from the amount appropriated for fiscal year 2001 t\n",
      "nts for serbia and montenegroof the amount appropriated for fiscal year 2001 t\n",
      "anding section 103c of this act the amount appropriated for fiscal year 2001 t\n",
      "o the republic of montenegro of the amount appropriated for fiscal year 2001 t\n",
      "conomic and political reformsof the amount appropriated for fiscal year 2001 t\n",
      "ssistance for microenterpriseof the amount made available under subsection a t\n",
      "itiative and related projectsof the amount made available under subsection a 5\n",
      "gn military financing programof the amount made available under subsection a n\n",
      "litary education and trainingof the amount made available under subsection a t\n",
      "president shall make available such amount as is necessary and appropriate for\n",
      "her provision of this act the total amount of bilateral united states assistan\n",
      "2 usc 5401 et seq may not exceed an amount equal to 15 percent of the total am\n",
      "nt equal to 15 percent of the total amount of multilateral assistance describe\n",
      "ll certify to the congress that the amount of bilateral united states assistan\n",
      "ort containing a description of the amount by which the bilateral united state\n",
      "ed in such subparagraph exceeds the amount of such assistance determined so as\n",
      "ding any other provision of law the amount of bilateral united states assistan\n",
      " seq shall be reduced by the excess amount determined under paragraph 2b b mul\n",
      "d states should provide an adequate amount of any additional financial or pers\n"
     ]
    }
   ],
   "source": [
    "# get the context for a word in a document\n",
    "text = cleaned[0][1]\n",
    "words = nltk.word_tokenize(text)\n",
    "textobj = nltk.Text(words)\n",
    "textobj.concordance('amount')"
   ]
  },
  {
   "cell_type": "code",
   "execution_count": 295,
   "metadata": {
    "collapsed": false
   },
   "outputs": [
    {
     "data": {
      "image/png": "[encoded data removed]",
      "text/plain": [
       "<matplotlib.figure.Figure at 0x10ca34750>"
      ]
     },
     "metadata": {},
     "output_type": "display_data"
    }
   ],
   "source": [
    "# plot of where in a document words appear\n",
    "%matplotlib inline\n",
    "textobj.dispersion_plot(['republic', 'appropriate', 'states'])"
   ]
  },
  {
   "cell_type": "code",
   "execution_count": 296,
   "metadata": {
    "collapsed": false
   },
   "outputs": [
    {
     "data": {
      "image/png": "[encoded data removed]",
      "text/plain": [
       "<matplotlib.figure.Figure at 0x112d18d50>"
      ]
     },
     "metadata": {},
     "output_type": "display_data"
    }
   ],
   "source": [
    "textobj.plot(40)"
   ]
  },
  {
   "cell_type": "code",
   "execution_count": 298,
   "metadata": {
    "collapsed": false
   },
   "outputs": [
    {
     "data": {
      "text/plain": [
       "<matplotlib.collections.PathCollection at 0x115ab1690>"
      ]
     },
     "execution_count": 298,
     "metadata": {},
     "output_type": "execute_result"
    },
    {
     "data": {
      "image/png": "[encoded data removed]",
      "text/plain": [
       "<matplotlib.figure.Figure at 0x112a8cfd0>"
      ]
     },
     "metadata": {},
     "output_type": "display_data"
    }
   ],
   "source": [
    "import matplotlib.pyplot as plt\n",
    "\n",
    "from sklearn.cluster import KMeans\n",
    "\n",
    "kmeans = KMeans(n_clusters=4).fit(X)\n",
    "centers2D = pca.transform(kmeans.cluster_centers_)\n",
    "\n",
    "from sklearn.decomposition import PCA\n",
    "X=docs.toarray()\n",
    "\n",
    "pca = PCA(n_components=4).fit(X)\n",
    "data2D = pca.transform(X)\n",
    "plt.scatter(data2D[:,0], data2D[:,1], c=kmeans.labels_)\n",
    "\n",
    "\n",
    "\n",
    "plt.hold(True)\n",
    "plt.scatter(centers2D[:,0], centers2D[:,1], \n",
    "            marker='x', s=200, linewidths=3, c='r')"
   ]
  },
  {
   "cell_type": "code",
   "execution_count": 279,
   "metadata": {
    "collapsed": false
   },
   "outputs": [],
   "source": [
    "import pickle\n",
    "with open('sentence_tokenizer_params.pickle') as f:\n",
    "    params = pickle.load(f)"
   ]
  },
  {
   "cell_type": "code",
   "execution_count": 280,
   "metadata": {
    "collapsed": false
   },
   "outputs": [
    {
     "data": {
      "text/plain": [
       "{u'_______________________________________________________________________',\n",
       " u'be',\n",
       " u'however',\n",
       " u'nothing',\n",
       " u'passed',\n",
       " u'there',\n",
       " u'this'}"
      ]
     },
     "execution_count": 280,
     "metadata": {},
     "output_type": "execute_result"
    }
   ],
   "source": [
    "params.sent_starters"
   ]
  },
  {
   "cell_type": "code",
   "execution_count": 281,
   "metadata": {
    "collapsed": true
   },
   "outputs": [],
   "source": [
    "import pickle\n",
    "with open('sentence_tokenizer.pickle', 'rb') as f:\n",
    "    tokenizer = pickle.load(f)"
   ]
  },
  {
   "cell_type": "code",
   "execution_count": 282,
   "metadata": {
    "collapsed": true
   },
   "outputs": [],
   "source": [
    "# using the sentences in a single document to make clusters with custom tokenizer\n",
    "selection = bills.find_one({},{\"text_versions\":1, \"bill_id\":1, \"official_title\":1})\n",
    "text = selection['text_versions'].itervalues().next()\n",
    "sentences = tokenizer.tokenize(text)\n",
    "\n",
    "with open('comp2.txt', 'wb') as f:\n",
    "    for i in sentences:\n",
    "        f.write('\\n***\\n')\n",
    "        f.write(i)"
   ]
  },
  {
   "cell_type": "code",
   "execution_count": 283,
   "metadata": {
    "collapsed": true
   },
   "outputs": [],
   "source": [
    "# words = nltk.word_tokenize(text)\n",
    "# custom_stop = ['sec', 'seq', 'title', 'congress', 'u.s.c']\n",
    "# stop_words = nltk.corpus.stopwords.words('english') + custom_stop\n",
    "# stopped = [i.lower() for i in words if i.lower() not in stop_words]\n",
    "# nltk.FreqDist(stopped).most_common(50)\n",
    "\n",
    "def tokenize(text):\n",
    "    words = nltk.word_tokenize(text)\n",
    "    custom_stop = ['sec'] #, 'seq', 'title', 'congress',]\n",
    "    stop_words = nltk.corpus.stopwords.words('english') + custom_stop\n",
    "    stopped = [i.lower() for i in words if i.lower() not in stop_words]\n",
    "    return stopped"
   ]
  },
  {
   "cell_type": "code",
   "execution_count": 284,
   "metadata": {
    "collapsed": true
   },
   "outputs": [],
   "source": [
    "vectorizer = TfidfVectorizer(sublinear_tf=True, tokenizer=tokenize, stop_words='english', ngram_range=(1,3), lowercase=True)\n",
    "docs = vectorizer.fit_transform(sentences)"
   ]
  },
  {
   "cell_type": "code",
   "execution_count": null,
   "metadata": {
    "collapsed": true
   },
   "outputs": [],
   "source": [
    "# using a corpus of 10,000 different bills to make clusters\n",
    "# instead of clustering on sentences of individual bills\n",
    "selection = list(bills.find({},{\"text_versions\":1, \"bill_id\":1, \"official_title\":1}).limit(10000))\n",
    "texts = [(i[\"bill_id\"], i['text_versions'].itervalues().next()) for i in selection]\n",
    "vectorizer = TfidfVectorizer(sublinear_tf=True, min_df=2, stop_words='english', lowercase=True)\n",
    "docs = vectorizer.fit_transform([i[1] for i in texts])"
   ]
  },
  {
   "cell_type": "code",
   "execution_count": 285,
   "metadata": {
    "collapsed": false
   },
   "outputs": [
    {
     "ename": "NameError",
     "evalue": "name 'MiniBatchKMeans' is not defined",
     "output_type": "error",
     "traceback": [
      "\u001b[0;31m---------------------------------------------------------------------------\u001b[0m",
      "\u001b[0;31mNameError\u001b[0m                                 Traceback (most recent call last)",
      "\u001b[0;32m<ipython-input-285-607f7e432d3a>\u001b[0m in \u001b[0;36m<module>\u001b[0;34m()\u001b[0m\n\u001b[1;32m      2\u001b[0m \u001b[0;34m\u001b[0m\u001b[0m\n\u001b[1;32m      3\u001b[0m \u001b[0mk_clusters\u001b[0m \u001b[0;34m=\u001b[0m \u001b[0;36m20\u001b[0m\u001b[0;34m\u001b[0m\u001b[0m\n\u001b[0;32m----> 4\u001b[0;31m km = MiniBatchKMeans(init='k-means++', n_init=1, init_size=1000,\n\u001b[0m\u001b[1;32m      5\u001b[0m                      batch_size=1000, n_clusters=k_clusters)\n\u001b[1;32m      6\u001b[0m \u001b[0mmodel\u001b[0m \u001b[0;34m=\u001b[0m \u001b[0mkm\u001b[0m\u001b[0;34m.\u001b[0m\u001b[0mfit\u001b[0m\u001b[0;34m(\u001b[0m\u001b[0mX\u001b[0m\u001b[0;34m)\u001b[0m\u001b[0;34m\u001b[0m\u001b[0m\n",
      "\u001b[0;31mNameError\u001b[0m: name 'MiniBatchKMeans' is not defined"
     ]
    }
   ],
   "source": [
    "from sklearn.metrics import pairwise_distances\n",
    "\n",
    "k_clusters = 20\n",
    "km = MiniBatchKMeans(init='k-means++', n_init=1, init_size=1000,\n",
    "                     batch_size=1000, n_clusters=k_clusters)\n",
    "model = km.fit(X)"
   ]
  },
  {
   "cell_type": "code",
   "execution_count": null,
   "metadata": {
    "collapsed": true
   },
   "outputs": [],
   "source": []
  }
 ],
 "metadata": {
  "kernelspec": {
   "display_name": "Python 2",
   "language": "python",
   "name": "python2"
  },
  "language_info": {
   "codemirror_mode": {
    "name": "ipython",
    "version": 2
   },
   "file_extension": ".py",
   "mimetype": "text/x-python",
   "name": "python",
   "nbconvert_exporter": "python",
   "pygments_lexer": "ipython2",
   "version": "2.7.9"
  }
 },
 "nbformat": 4,
 "nbformat_minor": 0
}
