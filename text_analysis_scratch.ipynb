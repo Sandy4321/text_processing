{
 "cells": [
  {
   "cell_type": "code",
   "execution_count": 28,
   "metadata": {
    "collapsed": false
   },
   "outputs": [],
   "source": [
    "import nltk\n",
    "import string\n",
    "from progressbar import ProgressBar\n",
    "from pymongo import MongoClient\n",
    "\n",
    "from sklearn.feature_extraction.text import TfidfVectorizer\n",
    "from nltk.stem.porter import PorterStemmer\n",
    "from nltk.stem.snowball import SnowballStemmer"
   ]
  },
  {
   "cell_type": "code",
   "execution_count": 29,
   "metadata": {
    "collapsed": false
   },
   "outputs": [],
   "source": [
    "# nltk.download()"
   ]
  },
  {
   "cell_type": "code",
   "execution_count": 30,
   "metadata": {
    "collapsed": true
   },
   "outputs": [],
   "source": [
    "from nltk.collocations import *\n",
    "bigram_measures = nltk.collocations.BigramAssocMeasures()\n",
    "trigram_measures = nltk.collocations.TrigramAssocMeasures()"
   ]
  },
  {
   "cell_type": "code",
   "execution_count": 60,
   "metadata": {
    "collapsed": false
   },
   "outputs": [],
   "source": [
    "client = MongoClient()\n",
    "db = client.legislation\n",
    "bills = db.bills\n",
    "\n",
    "# stemmer = PorterStemmer()\n",
    "stemmer = SnowballStemmer('english')\n",
    "pbar = ProgressBar()"
   ]
  },
  {
   "cell_type": "code",
   "execution_count": 32,
   "metadata": {
    "collapsed": true
   },
   "outputs": [],
   "source": [
    "def stem_tokens(tokens, stemmer):\n",
    "    stemmed = []\n",
    "    for item in tokens:\n",
    "        stemmed.append(stemmer.stem(item))\n",
    "    return stemmed"
   ]
  },
  {
   "cell_type": "code",
   "execution_count": 33,
   "metadata": {
    "collapsed": false
   },
   "outputs": [],
   "source": [
    "def tokenize(text):\n",
    "    tokens = nltk.word_tokenize(text)\n",
    "    stems = stem_tokens(tokens, stemmer)\n",
    "    return stems"
   ]
  },
  {
   "cell_type": "code",
   "execution_count": 34,
   "metadata": {
    "collapsed": false
   },
   "outputs": [
    {
     "data": {
      "text/plain": [
       "['hi',\n",
       " 'hows',\n",
       " 'going',\n",
       " 'today',\n",
       " 'lovely',\n",
       " \"n't\",\n",
       " 'tell',\n",
       " 'name',\n",
       " ('hi', 'hows'),\n",
       " ('lovely', \"n't\"),\n",
       " ('tell', 'name'),\n",
       " ('going', 'today', 'lovely'),\n",
       " ('hi', 'hows', 'going'),\n",
       " ('hows', 'going', 'today'),\n",
       " ('lovely', \"n't\", 'tell'),\n",
       " (\"n't\", 'tell', 'name'),\n",
       " ('today', 'lovely', \"n't\")]"
      ]
     },
     "execution_count": 34,
     "metadata": {},
     "output_type": "execute_result"
    }
   ],
   "source": [
    "from nltk.corpus import stopwords\n",
    "\n",
    "def analyze(text):\n",
    "    # preprocess\n",
    "    cleaned = text.lower()\n",
    "    # remove stop words and punctuation\n",
    "    tokens = nltk.word_tokenize(text)\n",
    "    stop = stopwords.words('english') + list(string.punctuation)\n",
    "    stopped = [i for i in tokens if i not in stop]\n",
    "    # stem tokens\n",
    "    stems = stem_tokens(tokens, stemmer)\n",
    "    # get bigrams, trigrams\n",
    "    bigrams = BigramCollocationFinder.from_words(stopped)\n",
    "    trigrams = TrigramCollocationFinder.from_words(stopped)\n",
    "    # exclude bigrams if included in trigram\n",
    "    # only bigrams that appear 3+ times\n",
    "#     bigrams.apply_freq_filter(3)\n",
    "#     trigrams.apply_freq_filter(3)\n",
    "    # return the 10 n-grams with the highest PMI\n",
    "    bigrams = bigrams.nbest(bigram_measures.pmi, 10)\n",
    "    trigrams = trigrams.nbest(trigram_measures.pmi, 10)\n",
    "    exclude = set()\n",
    "    for g in trigrams:\n",
    "        exclude |= {g[:2], g[1:]}\n",
    "    for i, b in enumerate(bigrams):\n",
    "        if b in exclude: bigrams.pop(i)\n",
    "#     bigrams = [i for i in bigrams if all(word in bigrams for word in trigrams)]\n",
    "    tokens = stopped + bigrams + trigrams\n",
    "    return tokens\n",
    "\n",
    "analyze(\"hi there hows it going today. lovely isn't it? how about you tell me your name\")\n",
    "\n"
   ]
  },
  {
   "cell_type": "code",
   "execution_count": 50,
   "metadata": {
    "collapsed": false
   },
   "outputs": [],
   "source": [
    "selection = list(bills.find({},{\"text_versions\":1, \"bill_id\":1}).limit(1000))"
   ]
  },
  {
   "cell_type": "code",
   "execution_count": 51,
   "metadata": {
    "collapsed": false
   },
   "outputs": [],
   "source": [
    "texts = [(i[\"bill_id\"], i['text_versions'].itervalues().next()) for i in selection]\n",
    "# make lowercase, remove punctuation\n",
    "cleaned = [(bill, text\n",
    "               .encode('utf-8')\n",
    "               .lower()\n",
    "               .translate(None, string.punctuation))\n",
    "               for bill, text in texts]"
   ]
  },
  {
   "cell_type": "code",
   "execution_count": 52,
   "metadata": {
    "collapsed": true
   },
   "outputs": [],
   "source": [
    "#really only want to stem and remove punctuation when predicting. not when summarizing"
   ]
  },
  {
   "cell_type": "code",
   "execution_count": 53,
   "metadata": {
    "collapsed": false
   },
   "outputs": [],
   "source": [
    "# vectorizer = TfidfVectorizer(sublinear_tf=True, analyzer=analyze)\n",
    "vectorizer = TfidfVectorizer(min_df=2, sublinear_tf=True, tokenizer=tokenize, stop_words='english', ngram_range=(1,3))\n",
    "# vectorizer = TfidfVectorizer(stop_words='english', ngram_range=(1,3), lowercase=True, )\n",
    "docs = vectorizer.fit_transform([i[1] for i in cleaned])"
   ]
  },
  {
   "cell_type": "code",
   "execution_count": 54,
   "metadata": {
    "collapsed": false
   },
   "outputs": [
    {
     "data": {
      "text/plain": [
       "93129"
      ]
     },
     "execution_count": 54,
     "metadata": {},
     "output_type": "execute_result"
    }
   ],
   "source": [
    "len(vectorizer.get_feature_names())"
   ]
  },
  {
   "cell_type": "code",
   "execution_count": 56,
   "metadata": {
    "collapsed": false
   },
   "outputs": [
    {
     "name": "stdout",
     "output_type": "stream",
     "text": [
      "\n",
      "Top words in bill: hr4053-106\n",
      "Word: southeastern, TF-IDF: 0.0863\n",
      "Word: kosovo, TF-IDF: 0.0829\n",
      "Word: republ, TF-IDF: 0.0824\n",
      "Word: yugoslavia, TF-IDF: 0.08\n",
      "Word: europ, TF-IDF: 0.0748\n",
      "Word: support east, TF-IDF: 0.0723\n",
      "Word: support east european, TF-IDF: 0.0723\n",
      "Word: east european, TF-IDF: 0.0723\n",
      "Word: east european democraci, TF-IDF: 0.0723\n",
      "\n",
      "Top words in bill: hr4009-106\n",
      "Word: gun, TF-IDF: 0.0781\n",
      "Word: handgun, TF-IDF: 0.067\n",
      "Word: licens manufactur, TF-IDF: 0.0646\n",
      "Word: licens manufactur licens, TF-IDF: 0.0646\n",
      "Word: licens import licens, TF-IDF: 0.0646\n",
      "Word: manufactur licens, TF-IDF: 0.0646\n",
      "Word: licens import, TF-IDF: 0.0646\n",
      "Word: licens dealer, TF-IDF: 0.0619\n",
      "Word: import licens, TF-IDF: 0.0619\n",
      "\n",
      "Top words in bill: hr4013-106\n",
      "Word: sediment, TF-IDF: 0.1035\n",
      "Word: nutrient, TF-IDF: 0.1013\n",
      "Word: river basin, TF-IDF: 0.0982\n",
      "Word: upper, TF-IDF: 0.0967\n",
      "Word: advisori council, TF-IDF: 0.0866\n",
      "Word: basin, TF-IDF: 0.0841\n",
      "Word: mississippi, TF-IDF: 0.0753\n",
      "Word: river, TF-IDF: 0.0689\n",
      "Word: interag work group, TF-IDF: 0.0685\n",
      "\n",
      "Top words in bill: hr4029-106\n",
      "Word: alzheim, TF-IDF: 0.0686\n",
      "Word: longterm care, TF-IDF: 0.0574\n",
      "Word: alzheim diseas, TF-IDF: 0.0572\n",
      "Word: day care program, TF-IDF: 0.0546\n",
      "Word: qualifi longterm, TF-IDF: 0.0543\n",
      "Word: qualifi longterm care, TF-IDF: 0.0543\n",
      "Word: day care, TF-IDF: 0.0525\n",
      "Word: adult day, TF-IDF: 0.0523\n",
      "Word: adult day care, TF-IDF: 0.0523\n",
      "\n",
      "Top words in bill: hr4037-106\n",
      "Word: 2 usc, TF-IDF: 0.0745\n",
      "Word: polit committe, TF-IDF: 0.0636\n",
      "Word: candid, TF-IDF: 0.0618\n",
      "Word: contribut expenditur, TF-IDF: 0.0611\n",
      "Word: nation polit, TF-IDF: 0.0585\n",
      "Word: disburs, TF-IDF: 0.0555\n",
      "Word: elect cycl, TF-IDF: 0.0554\n",
      "Word: file report, TF-IDF: 0.0525\n",
      "Word: feder elect, TF-IDF: 0.0522\n",
      "\n",
      "Top words in bill: hr4041-106\n",
      "Word: tobacco, TF-IDF: 0.0913\n",
      "Word: tobacco product, TF-IDF: 0.0902\n",
      "Word: tobacco use, TF-IDF: 0.0853\n",
      "Word: annual perform, TF-IDF: 0.083\n",
      "Word: fail achiev, TF-IDF: 0.0675\n",
      "Word: use tobacco, TF-IDF: 0.0612\n",
      "Word: use tobacco product, TF-IDF: 0.0612\n",
      "Word: manufactur, TF-IDF: 0.0603\n",
      "Word: addit measur, TF-IDF: 0.0586\n",
      "\n",
      "Top words in bill: hr4046-106\n",
      "Word: fisheri, TF-IDF: 0.1118\n",
      "Word: fisheri manag, TF-IDF: 0.0906\n",
      "Word: ecosystem, TF-IDF: 0.0881\n",
      "Word: fisheri manag plan, TF-IDF: 0.0855\n",
      "Word: conserv manag, TF-IDF: 0.0838\n",
      "Word: fish, TF-IDF: 0.0794\n",
      "Word: fish habitat, TF-IDF: 0.0792\n",
      "Word: manag measur, TF-IDF: 0.0792\n",
      "Word: fish gear, TF-IDF: 0.0739\n",
      "\n",
      "Top words in bill: hr4049-106\n",
      "Word: privaci, TF-IDF: 0.082\n",
      "Word: individu privaci, TF-IDF: 0.082\n",
      "Word: privaci protect, TF-IDF: 0.0744\n",
      "Word: person inform, TF-IDF: 0.0732\n",
      "Word: member commiss, TF-IDF: 0.0639\n",
      "Word: protect individu, TF-IDF: 0.0609\n",
      "Word: commiss, TF-IDF: 0.0597\n",
      "Word: internet, TF-IDF: 0.0586\n",
      "Word: driver licens, TF-IDF: 0.0584\n",
      "\n",
      "Top words in bill: hr4051-106\n",
      "Word: incent grant, TF-IDF: 0.0948\n",
      "Word: violent crime, TF-IDF: 0.0947\n",
      "Word: firearm, TF-IDF: 0.0873\n",
      "Word: violent, TF-IDF: 0.0845\n",
      "Word: crime, TF-IDF: 0.0782\n",
      "Word: subtitl, TF-IDF: 0.0752\n",
      "Word: sentenc term imprison, TF-IDF: 0.0744\n",
      "Word: traffick crime, TF-IDF: 0.0744\n",
      "Word: crime report, TF-IDF: 0.0744\n",
      "\n",
      "Top words in bill: hr4205-107\n",
      "Word: tenantbas, TF-IDF: 0.114\n",
      "Word: tenantbas assist, TF-IDF: 0.1087\n",
      "Word: hous agenc, TF-IDF: 0.1057\n",
      "Word: public hous agenc, TF-IDF: 0.1057\n",
      "Word: rental assist, TF-IDF: 0.1056\n",
      "Word: public hous, TF-IDF: 0.1034\n",
      "Word: particip jurisdict, TF-IDF: 0.1023\n",
      "Word: home invest, TF-IDF: 0.0985\n",
      "Word: afford hous, TF-IDF: 0.0976\n",
      "\n",
      "Top words in bill: hr4209-107\n",
      "Word: microenterpris, TF-IDF: 0.1408\n",
      "Word: poverti, TF-IDF: 0.1123\n",
      "Word: veri poor, TF-IDF: 0.1097\n",
      "Word: foreign assist act, TF-IDF: 0.0957\n",
      "Word: assist act 1961, TF-IDF: 0.0957\n",
      "Word: act 1961, TF-IDF: 0.0946\n",
      "Word: foreign assist, TF-IDF: 0.0946\n",
      "Word: 1961, TF-IDF: 0.09\n",
      "Word: client, TF-IDF: 0.0888\n",
      "\n",
      "Top words in bill: hr421-107\n",
      "Word: teacher public, TF-IDF: 0.1177\n",
      "Word: public safeti offic, TF-IDF: 0.112\n",
      "Word: safeti offic, TF-IDF: 0.1092\n",
      "Word: elig properti, TF-IDF: 0.0986\n",
      "Word: singl famili properti, TF-IDF: 0.0954\n",
      "Word: famili properti, TF-IDF: 0.0954\n",
      "Word: discount, TF-IDF: 0.0911\n",
      "Word: public safeti, TF-IDF: 0.0891\n",
      "Word: teacher, TF-IDF: 0.089\n",
      "\n",
      "Top words in bill: hr4210-107\n",
      "Word: selfsuffici, TF-IDF: 0.0697\n",
      "Word: educ train includ, TF-IDF: 0.069\n",
      "Word: ani industri, TF-IDF: 0.069\n",
      "Word: train includ, TF-IDF: 0.0639\n",
      "Word: vocat, TF-IDF: 0.0632\n",
      "Word: state assess, TF-IDF: 0.0631\n",
      "Word: limit particip, TF-IDF: 0.0631\n",
      "Word: assess region, TF-IDF: 0.0631\n",
      "Word: postsecondari educ, TF-IDF: 0.0619\n",
      "\n",
      "Top words in bill: hr4230-107\n",
      "Word: entri, TF-IDF: 0.1797\n",
      "Word: subhead, TF-IDF: 0.1682\n",
      "Word: liquid, TF-IDF: 0.1655\n",
      "Word: tariff, TF-IDF: 0.1637\n",
      "Word: tariff schedul, TF-IDF: 0.1611\n",
      "Word: merchandis, TF-IDF: 0.1611\n",
      "Word: tariff schedul unit, TF-IDF: 0.1611\n",
      "Word: harmon tariff, TF-IDF: 0.1611\n",
      "Word: schedul unit, TF-IDF: 0.1611\n",
      "\n",
      "Top words in bill: hr425-107\n",
      "Word: afford hous, TF-IDF: 0.0941\n",
      "Word: lowincom, TF-IDF: 0.0819\n",
      "Word: afford, TF-IDF: 0.0808\n",
      "Word: project meet requir, TF-IDF: 0.0774\n",
      "Word: lowincom household, TF-IDF: 0.0765\n",
      "Word: renter, TF-IDF: 0.0751\n",
      "Word: project meet, TF-IDF: 0.0751\n",
      "Word: lowcost, TF-IDF: 0.0733\n",
      "Word: grant act, TF-IDF: 0.0683\n",
      "\n",
      "Top words in bill: hr429-107\n",
      "Word: crime violenc motiv, TF-IDF: 0.1116\n",
      "Word: violenc motiv gender, TF-IDF: 0.1116\n",
      "Word: motiv gender, TF-IDF: 0.1116\n",
      "Word: violenc motiv, TF-IDF: 0.1069\n",
      "Word: civil remedi, TF-IDF: 0.0982\n",
      "Word: motiv, TF-IDF: 0.0919\n",
      "Word: crime violenc, TF-IDF: 0.0919\n",
      "Word: feder civil, TF-IDF: 0.0908\n",
      "Word: violenc, TF-IDF: 0.0864\n",
      "\n",
      "Top words in bill: hr430-107\n",
      "Word: feder elect, TF-IDF: 0.0967\n",
      "Word: feder elect commiss, TF-IDF: 0.0853\n",
      "Word: elect commiss, TF-IDF: 0.0853\n",
      "Word: conduct feder, TF-IDF: 0.0746\n",
      "Word: elect procedur, TF-IDF: 0.0714\n",
      "Word: elect standard, TF-IDF: 0.0714\n",
      "Word: effici feder elect, TF-IDF: 0.0714\n",
      "Word: effici feder, TF-IDF: 0.0714\n",
      "Word: accuraci integr, TF-IDF: 0.0714\n",
      "\n",
      "Top words in bill: hr4312-107\n",
      "Word: produc farm, TF-IDF: 0.1266\n",
      "Word: crop, TF-IDF: 0.1175\n",
      "Word: commod credit corpor, TF-IDF: 0.1033\n",
      "Word: credit corpor, TF-IDF: 0.1033\n",
      "Word: commod credit, TF-IDF: 0.0998\n",
      "Word: farm, TF-IDF: 0.0932\n",
      "Word: fund commod credit, TF-IDF: 0.093\n",
      "Word: puls, TF-IDF: 0.093\n",
      "Word: commod, TF-IDF: 0.091\n",
      "\n",
      "Top words in bill: hr436-107\n",
      "Word: educ loan, TF-IDF: 0.155\n",
      "Word: repeal dollar, TF-IDF: 0.1297\n",
      "Word: limit deduct, TF-IDF: 0.12\n",
      "Word: adjust gross, TF-IDF: 0.1141\n",
      "Word: deduct, TF-IDF: 0.1092\n",
      "Word: dollar limit, TF-IDF: 0.1088\n",
      "Word: adjust gross incom, TF-IDF: 0.1054\n",
      "Word: modifi adjust gross, TF-IDF: 0.105\n",
      "Word: modifi adjust, TF-IDF: 0.105\n",
      "\n",
      "Top words in bill: hr437-107\n",
      "Word: minimum tax, TF-IDF: 0.0805\n",
      "Word: altern minimum tax, TF-IDF: 0.0788\n",
      "Word: altern minimum, TF-IDF: 0.0769\n",
      "Word: repeal act, TF-IDF: 0.0711\n",
      "Word: relat tax, TF-IDF: 0.0683\n",
      "Word: foreign corpor, TF-IDF: 0.0681\n",
      "Word: expenditur amend, TF-IDF: 0.0681\n",
      "Word: tax liabil, TF-IDF: 0.0655\n",
      "Word: expenditur amend strike, TF-IDF: 0.065\n"
     ]
    }
   ],
   "source": [
    "feature_names = vectorizer.get_feature_names()\n",
    "for index, doc in enumerate(docs):\n",
    "    if index == 20: break\n",
    "    print\n",
    "    print(\"Top words in bill: {0}\".format(cleaned[index][0]))\n",
    "    scores = {feature_names[col]: doc[0, col] for col in doc.nonzero()[1]}\n",
    "    sorted_words = sorted(scores.items(), key=lambda x: x[1], reverse=True)\n",
    "    for word, score in sorted_words[:9]:\n",
    "         print(\"Word: {}, TF-IDF: {}\".format(word, round(score, 4)))"
   ]
  },
  {
   "cell_type": "code",
   "execution_count": 59,
   "metadata": {
    "collapsed": false
   },
   "outputs": [
    {
     "ename": "AttributeError",
     "evalue": "Unknown property figsize",
     "output_type": "error",
     "traceback": [
      "\u001b[0;31m---------------------------------------------------------------------------\u001b[0m",
      "\u001b[0;31mAttributeError\u001b[0m                            Traceback (most recent call last)",
      "\u001b[0;32m<ipython-input-59-23c359292ff2>\u001b[0m in \u001b[0;36m<module>\u001b[0;34m()\u001b[0m\n\u001b[1;32m     10\u001b[0m \u001b[0mpca\u001b[0m \u001b[0;34m=\u001b[0m \u001b[0mPCA\u001b[0m\u001b[0;34m(\u001b[0m\u001b[0mn_components\u001b[0m\u001b[0;34m=\u001b[0m\u001b[0;36m4\u001b[0m\u001b[0;34m)\u001b[0m\u001b[0;34m.\u001b[0m\u001b[0mfit\u001b[0m\u001b[0;34m(\u001b[0m\u001b[0mX\u001b[0m\u001b[0;34m)\u001b[0m\u001b[0;34m\u001b[0m\u001b[0m\n\u001b[1;32m     11\u001b[0m \u001b[0mdata2D\u001b[0m \u001b[0;34m=\u001b[0m \u001b[0mpca\u001b[0m\u001b[0;34m.\u001b[0m\u001b[0mtransform\u001b[0m\u001b[0;34m(\u001b[0m\u001b[0mX\u001b[0m\u001b[0;34m)\u001b[0m\u001b[0;34m\u001b[0m\u001b[0m\n\u001b[0;32m---> 12\u001b[0;31m \u001b[0mplt\u001b[0m\u001b[0;34m.\u001b[0m\u001b[0mscatter\u001b[0m\u001b[0;34m(\u001b[0m\u001b[0mdata2D\u001b[0m\u001b[0;34m[\u001b[0m\u001b[0;34m:\u001b[0m\u001b[0;34m,\u001b[0m\u001b[0;36m0\u001b[0m\u001b[0;34m]\u001b[0m\u001b[0;34m,\u001b[0m \u001b[0mdata2D\u001b[0m\u001b[0;34m[\u001b[0m\u001b[0;34m:\u001b[0m\u001b[0;34m,\u001b[0m\u001b[0;36m1\u001b[0m\u001b[0;34m]\u001b[0m\u001b[0;34m,\u001b[0m \u001b[0mc\u001b[0m\u001b[0;34m=\u001b[0m\u001b[0mkmeans\u001b[0m\u001b[0;34m.\u001b[0m\u001b[0mlabels_\u001b[0m\u001b[0;34m,\u001b[0m \u001b[0mfigsize\u001b[0m\u001b[0;34m=\u001b[0m\u001b[0;34m(\u001b[0m\u001b[0;36m8\u001b[0m\u001b[0;34m,\u001b[0m\u001b[0;36m8\u001b[0m\u001b[0;34m)\u001b[0m\u001b[0;34m)\u001b[0m\u001b[0;34m\u001b[0m\u001b[0m\n\u001b[0m\u001b[1;32m     13\u001b[0m \u001b[0;34m\u001b[0m\u001b[0m\n\u001b[1;32m     14\u001b[0m \u001b[0;34m\u001b[0m\u001b[0m\n",
      "\u001b[0;32m/Users/amangum/Virtualenvs/metis/lib/python2.7/site-packages/matplotlib/pyplot.pyc\u001b[0m in \u001b[0;36mscatter\u001b[0;34m(x, y, s, c, marker, cmap, norm, vmin, vmax, alpha, linewidths, verts, hold, **kwargs)\u001b[0m\n\u001b[1;32m   3198\u001b[0m         ret = ax.scatter(x, y, s=s, c=c, marker=marker, cmap=cmap, norm=norm,\n\u001b[1;32m   3199\u001b[0m                          \u001b[0mvmin\u001b[0m\u001b[0;34m=\u001b[0m\u001b[0mvmin\u001b[0m\u001b[0;34m,\u001b[0m \u001b[0mvmax\u001b[0m\u001b[0;34m=\u001b[0m\u001b[0mvmax\u001b[0m\u001b[0;34m,\u001b[0m \u001b[0malpha\u001b[0m\u001b[0;34m=\u001b[0m\u001b[0malpha\u001b[0m\u001b[0;34m,\u001b[0m\u001b[0;34m\u001b[0m\u001b[0m\n\u001b[0;32m-> 3200\u001b[0;31m                          linewidths=linewidths, verts=verts, **kwargs)\n\u001b[0m\u001b[1;32m   3201\u001b[0m         \u001b[0mdraw_if_interactive\u001b[0m\u001b[0;34m(\u001b[0m\u001b[0;34m)\u001b[0m\u001b[0;34m\u001b[0m\u001b[0m\n\u001b[1;32m   3202\u001b[0m     \u001b[0;32mfinally\u001b[0m\u001b[0;34m:\u001b[0m\u001b[0;34m\u001b[0m\u001b[0m\n",
      "\u001b[0;32m/Users/amangum/Virtualenvs/metis/lib/python2.7/site-packages/matplotlib/axes/_axes.pyc\u001b[0m in \u001b[0;36mscatter\u001b[0;34m(self, x, y, s, c, marker, cmap, norm, vmin, vmax, alpha, linewidths, verts, **kwargs)\u001b[0m\n\u001b[1;32m   3647\u001b[0m         \u001b[0mcollection\u001b[0m\u001b[0;34m.\u001b[0m\u001b[0mset_transform\u001b[0m\u001b[0;34m(\u001b[0m\u001b[0mmtransforms\u001b[0m\u001b[0;34m.\u001b[0m\u001b[0mIdentityTransform\u001b[0m\u001b[0;34m(\u001b[0m\u001b[0;34m)\u001b[0m\u001b[0;34m)\u001b[0m\u001b[0;34m\u001b[0m\u001b[0m\n\u001b[1;32m   3648\u001b[0m         \u001b[0mcollection\u001b[0m\u001b[0;34m.\u001b[0m\u001b[0mset_alpha\u001b[0m\u001b[0;34m(\u001b[0m\u001b[0malpha\u001b[0m\u001b[0;34m)\u001b[0m\u001b[0;34m\u001b[0m\u001b[0m\n\u001b[0;32m-> 3649\u001b[0;31m         \u001b[0mcollection\u001b[0m\u001b[0;34m.\u001b[0m\u001b[0mupdate\u001b[0m\u001b[0;34m(\u001b[0m\u001b[0mkwargs\u001b[0m\u001b[0;34m)\u001b[0m\u001b[0;34m\u001b[0m\u001b[0m\n\u001b[0m\u001b[1;32m   3650\u001b[0m \u001b[0;34m\u001b[0m\u001b[0m\n\u001b[1;32m   3651\u001b[0m         \u001b[0;32mif\u001b[0m \u001b[0mcolors\u001b[0m \u001b[0;32mis\u001b[0m \u001b[0mNone\u001b[0m\u001b[0;34m:\u001b[0m\u001b[0;34m\u001b[0m\u001b[0m\n",
      "\u001b[0;32m/Users/amangum/Virtualenvs/metis/lib/python2.7/site-packages/matplotlib/artist.pyc\u001b[0m in \u001b[0;36mupdate\u001b[0;34m(self, props)\u001b[0m\n\u001b[1;32m    755\u001b[0m             \u001b[0mfunc\u001b[0m \u001b[0;34m=\u001b[0m \u001b[0mgetattr\u001b[0m\u001b[0;34m(\u001b[0m\u001b[0mself\u001b[0m\u001b[0;34m,\u001b[0m \u001b[0;34m'set_'\u001b[0m \u001b[0;34m+\u001b[0m \u001b[0mk\u001b[0m\u001b[0;34m,\u001b[0m \u001b[0mNone\u001b[0m\u001b[0;34m)\u001b[0m\u001b[0;34m\u001b[0m\u001b[0m\n\u001b[1;32m    756\u001b[0m             \u001b[0;32mif\u001b[0m \u001b[0mfunc\u001b[0m \u001b[0;32mis\u001b[0m \u001b[0mNone\u001b[0m \u001b[0;32mor\u001b[0m \u001b[0;32mnot\u001b[0m \u001b[0msix\u001b[0m\u001b[0;34m.\u001b[0m\u001b[0mcallable\u001b[0m\u001b[0;34m(\u001b[0m\u001b[0mfunc\u001b[0m\u001b[0;34m)\u001b[0m\u001b[0;34m:\u001b[0m\u001b[0;34m\u001b[0m\u001b[0m\n\u001b[0;32m--> 757\u001b[0;31m                 \u001b[0;32mraise\u001b[0m \u001b[0mAttributeError\u001b[0m\u001b[0;34m(\u001b[0m\u001b[0;34m'Unknown property %s'\u001b[0m \u001b[0;34m%\u001b[0m \u001b[0mk\u001b[0m\u001b[0;34m)\u001b[0m\u001b[0;34m\u001b[0m\u001b[0m\n\u001b[0m\u001b[1;32m    758\u001b[0m             \u001b[0mfunc\u001b[0m\u001b[0;34m(\u001b[0m\u001b[0mv\u001b[0m\u001b[0;34m)\u001b[0m\u001b[0;34m\u001b[0m\u001b[0m\n\u001b[1;32m    759\u001b[0m             \u001b[0mchanged\u001b[0m \u001b[0;34m=\u001b[0m \u001b[0mTrue\u001b[0m\u001b[0;34m\u001b[0m\u001b[0m\n",
      "\u001b[0;31mAttributeError\u001b[0m: Unknown property figsize"
     ]
    },
    {
     "data": {
      "image/png": "[encoded data removed]",
      "text/plain": [
       "<matplotlib.figure.Figure at 0x10fd33450>"
      ]
     },
     "metadata": {},
     "output_type": "display_data"
    }
   ],
   "source": [
    "import matplotlib.pyplot as plt\n",
    "from sklearn.decomposition import PCA\n",
    "from sklearn.cluster import KMeans\n",
    "X=docs.toarray()\n",
    "\n",
    "kmeans = KMeans(n_clusters=4).fit(X)\n",
    "centers2D = pca.transform(kmeans.cluster_centers_)\n",
    "\n",
    "\n",
    "pca = PCA(n_components=4).fit(X)\n",
    "data2D = pca.transform(X)\n",
    "plt.scatter(data2D[:,0], data2D[:,1], c=kmeans.labels_, figsize=(8,8))\n",
    "\n",
    "\n",
    "\n",
    "plt.hold(True)\n",
    "plt.scatter(centers2D[:,0], centers2D[:,1], \n",
    "            marker='x', s=200, linewidths=3, c='r')"
   ]
  },
  {
   "cell_type": "code",
   "execution_count": 16,
   "metadata": {
    "collapsed": false
   },
   "outputs": [
    {
     "data": {
      "text/plain": [
       "[('legal', 'protection'),\n",
       " ('american', 'university'),\n",
       " ('nongovernmental', 'organizations'),\n",
       " ('north', 'atlantic'),\n",
       " ('atlantic', 'treaty'),\n",
       " ('less', 'than'),\n",
       " ('marketbased', 'economy'),\n",
       " ('equitable', 'burdensharing'),\n",
       " ('treaty', 'organization'),\n",
       " ('organization', 'nato')]"
      ]
     },
     "execution_count": 16,
     "metadata": {},
     "output_type": "execute_result"
    }
   ],
   "source": [
    "#returns the most interesting collocations according to frequency and pmi\n",
    "# change this to read in your data\n",
    "finder = BigramCollocationFinder.from_words(\n",
    "    nltk.word_tokenize(cleaned[0][1])\n",
    "    )\n",
    "\n",
    "# only bigrams that appear 3+ times\n",
    "finder.apply_freq_filter(3) \n",
    "\n",
    "# return the 10 n-grams with the highest PMI\n",
    "finder.nbest(bigram_measures.pmi, 10) "
   ]
  },
  {
   "cell_type": "code",
   "execution_count": 17,
   "metadata": {
    "collapsed": false
   },
   "outputs": [
    {
     "data": {
      "text/plain": [
       "[('in', 'the', 'of'),\n",
       " ('of', 'the', 'of'),\n",
       " ('of', 'the', 'republic'),\n",
       " ('republic', 'of', 'montenegro'),\n",
       " ('republic', 'of', 'the'),\n",
       " ('the', 'of', 'montenegro'),\n",
       " ('the', 'of', 'serbia'),\n",
       " ('the', 'of', 'the'),\n",
       " ('the', 'republic', 'montenegro'),\n",
       " ('the', 'republic', 'of')]"
      ]
     },
     "execution_count": 17,
     "metadata": {},
     "output_type": "execute_result"
    }
   ],
   "source": [
    "# top four trigrams spanning five words\n",
    "finder = TrigramCollocationFinder.from_words(\n",
    "    nltk.word_tokenize(cleaned[0][1]), window_size=5)\n",
    "# filter results to allow 'and' to appear between words but not on the edge\n",
    "finder.apply_ngram_filter(lambda w1, w2, w3: 'and' in (w1, w3))\n",
    "sorted(finder.nbest(trigram_measures.raw_freq, 10))\n"
   ]
  },
  {
   "cell_type": "code",
   "execution_count": 18,
   "metadata": {
    "collapsed": false
   },
   "outputs": [
    {
     "name": "stdout",
     "output_type": "stream",
     "text": [
      "Displaying 21 of 21 matches:\n",
      "ies of southeastern europe from the amount appropriated for fiscal year 2001 t\n",
      " of the republic of serbia from the amount appropriated for fiscal year 2001 t\n",
      "ctly humanitarian purposes from the amount appropriated for fiscal year 2001 t\n",
      "nts for serbia and montenegroof the amount appropriated for fiscal year 2001 t\n",
      "anding section 103c of this act the amount appropriated for fiscal year 2001 t\n",
      "o the republic of montenegro of the amount appropriated for fiscal year 2001 t\n",
      "conomic and political reformsof the amount appropriated for fiscal year 2001 t\n",
      "ssistance for microenterpriseof the amount made available under subsection a t\n",
      "itiative and related projectsof the amount made available under subsection a 5\n",
      "gn military financing programof the amount made available under subsection a n\n",
      "litary education and trainingof the amount made available under subsection a t\n",
      "president shall make available such amount as is necessary and appropriate for\n",
      "her provision of this act the total amount of bilateral united states assistan\n",
      "2 usc 5401 et seq may not exceed an amount equal to 15 percent of the total am\n",
      "nt equal to 15 percent of the total amount of multilateral assistance describe\n",
      "ll certify to the congress that the amount of bilateral united states assistan\n",
      "ort containing a description of the amount by which the bilateral united state\n",
      "ed in such subparagraph exceeds the amount of such assistance determined so as\n",
      "ding any other provision of law the amount of bilateral united states assistan\n",
      " seq shall be reduced by the excess amount determined under paragraph 2b b mul\n",
      "d states should provide an adequate amount of any additional financial or pers\n"
     ]
    }
   ],
   "source": [
    "# get the context for a word in a document\n",
    "text = cleaned[0][1]\n",
    "words = nltk.word_tokenize(text)\n",
    "textobj = nltk.Text(words)\n",
    "textobj.concordance('amount')"
   ]
  },
  {
   "cell_type": "code",
   "execution_count": 19,
   "metadata": {
    "collapsed": false
   },
   "outputs": [
    {
     "data": {
      "image/png": "[encoded data removed]",
      "text/plain": [
       "<matplotlib.figure.Figure at 0x109a8a750>"
      ]
     },
     "metadata": {},
     "output_type": "display_data"
    }
   ],
   "source": [
    "# plot of where in a document words appear\n",
    "%matplotlib inline\n",
    "textobj.dispersion_plot(['republic', 'appropriate', 'states'])"
   ]
  },
  {
   "cell_type": "code",
   "execution_count": 20,
   "metadata": {
    "collapsed": false
   },
   "outputs": [
    {
     "data": {
      "image/png": "[encoded data removed]",
      "text/plain": [
       "<matplotlib.figure.Figure at 0x102e96610>"
      ]
     },
     "metadata": {},
     "output_type": "display_data"
    }
   ],
   "source": [
    "textobj.plot(40)"
   ]
  },
  {
   "cell_type": "code",
   "execution_count": null,
   "metadata": {
    "collapsed": true
   },
   "outputs": [],
   "source": []
  },
  {
   "cell_type": "code",
   "execution_count": 308,
   "metadata": {
    "collapsed": false
   },
   "outputs": [],
   "source": [
    "import pickle\n",
    "with open('sentence_tokenizer_params.pickle') as f:\n",
    "    params = pickle.load(f)"
   ]
  },
  {
   "cell_type": "code",
   "execution_count": 309,
   "metadata": {
    "collapsed": false
   },
   "outputs": [
    {
     "data": {
      "text/plain": [
       "{(u'##number##', u'<all>'),\n",
       " (u'##number##', u'acceleration'),\n",
       " (u'##number##', u'applicability'),\n",
       " (u'##number##', u'assignment'),\n",
       " (u'##number##', u'attest'),\n",
       " (u'##number##', u'authorization'),\n",
       " (u'##number##', u'banning'),\n",
       " (u'##number##', u'clarification'),\n",
       " (u'##number##', u'codification'),\n",
       " (u'##number##', u'computations'),\n",
       " (u'##number##', u'computer-assisted'),\n",
       " (u'##number##', u'cross'),\n",
       " (u'##number##', u'deferments'),\n",
       " (u'##number##', u'definition'),\n",
       " (u'##number##', u'definitions'),\n",
       " (u'##number##', u'designation'),\n",
       " (u'##number##', u'duplicate'),\n",
       " (u'##number##', u'duties'),\n",
       " (u'##number##', u'e-fencing'),\n",
       " (u'##number##', u'e-security'),\n",
       " (u'##number##', u'easing'),\n",
       " (u'##number##', u'effective'),\n",
       " (u'##number##', u'elimination'),\n",
       " (u'##number##', u'encouragement'),\n",
       " (u'##number##', u'enhanced'),\n",
       " (u'##number##', u'epa'),\n",
       " (u'##number##', u'establishment'),\n",
       " (u'##number##', u'exclusion'),\n",
       " (u'##number##', u'exclusivity'),\n",
       " (u'##number##', u'exemption'),\n",
       " (u'##number##', u'exemptions'),\n",
       " (u'##number##', u'expansion'),\n",
       " (u'##number##', u'expedited'),\n",
       " (u'##number##', u'extension'),\n",
       " (u'##number##', u'federal-state'),\n",
       " (u'##number##', u'ferc'),\n",
       " (u'##number##', u'findings'),\n",
       " (u'##number##', u'indexing'),\n",
       " (u'##number##', u'lance'),\n",
       " (u'##number##', u'medpac'),\n",
       " (u'##number##', u'membership'),\n",
       " (u'##number##', u'modification'),\n",
       " (u'##number##', u'murder'),\n",
       " (u'##number##', u'noaa'),\n",
       " (u'##number##', u'nondiscrimination'),\n",
       " (u'##number##', u'nonpreemption'),\n",
       " (u'##number##', u'nonseverability'),\n",
       " (u'##number##', u'optional'),\n",
       " (u'##number##', u'overpayments'),\n",
       " (u'##number##', u'partial'),\n",
       " (u'##number##', u'permitting'),\n",
       " (u'##number##', u'powers'),\n",
       " (u'##number##', u'prohibiting'),\n",
       " (u'##number##', u'prohibition'),\n",
       " (u'##number##', u'reauthorization'),\n",
       " (u'##number##', u'redesignation'),\n",
       " (u'##number##', u'references'),\n",
       " (u'##number##', u'refundable'),\n",
       " (u'##number##', u'renaming'),\n",
       " (u'##number##', u'repeal'),\n",
       " (u'##number##', u'reporting'),\n",
       " (u'##number##', u'requiring'),\n",
       " (u'##number##', u'resiliency'),\n",
       " (u'##number##', u'restrictions'),\n",
       " (u'##number##', u'sense'),\n",
       " (u'##number##', u'separability'),\n",
       " (u'##number##', u'severability'),\n",
       " (u'##number##', u'short'),\n",
       " (u'##number##', u'study'),\n",
       " (u'##number##', u'sunset'),\n",
       " (u'##number##', u'sunshine'),\n",
       " (u'##number##', u'suspension'),\n",
       " (u'##number##', u'temporary'),\n",
       " (u'##number##', u'termination'),\n",
       " (u'##number##', u'windfall'),\n",
       " (u'##number##', u'wool'),\n",
       " (u'a', u'al-masri'),\n",
       " (u'a', u'armstrong'),\n",
       " (u'a', u'cibotti'),\n",
       " (u'a', u'mukahal'),\n",
       " (u'a', u'tannehill'),\n",
       " (u'b', u'kirsner'),\n",
       " (u'b', u'russell'),\n",
       " (u'c', u'dixon'),\n",
       " (u'c', u'johnson'),\n",
       " (u'c', u'miller'),\n",
       " (u'c', u'morrison'),\n",
       " (u'c', u'scheck'),\n",
       " (u'd', u'mccraw'),\n",
       " (u'd', u'perkins'),\n",
       " (u'd', u'spence'),\n",
       " (u'e', u'brower'),\n",
       " (u'e', u'brown'),\n",
       " (u'e', u'campos'),\n",
       " (u'e', u'carson'),\n",
       " (u'e', u'chavez'),\n",
       " (u'e', u'coli'),\n",
       " (u'e', u'lungren'),\n",
       " (u'e', u'rogers'),\n",
       " (u'e', u'sorensen'),\n",
       " (u'f', u'goodling'),\n",
       " (u'f', u'kennedy'),\n",
       " (u'f', u'reeves'),\n",
       " (u'g', u'johnson'),\n",
       " (u'g', u'miller'),\n",
       " (u'h', u'r.'),\n",
       " (u'j', u'murphy'),\n",
       " (u'j', u'navarro'),\n",
       " (u'j', u'res'),\n",
       " (u'k', u'fribley'),\n",
       " (u'l', u'carey'),\n",
       " (u'l', u'dryden'),\n",
       " (u'l', u'haas'),\n",
       " (u'l', u'nord'),\n",
       " (u'm', u'barlow'),\n",
       " (u'm', u'downey'),\n",
       " (u'm', u'jones'),\n",
       " (u'm', u'la'),\n",
       " (u'm', u'lowell'),\n",
       " (u'm', u'matsunaga'),\n",
       " (u'm', u'spriggs'),\n",
       " (u'o', u'banks'),\n",
       " (u'o', u'conte'),\n",
       " (u'o', u'maugans'),\n",
       " (u'p', u'pathenos'),\n",
       " (u'p', u'suaverdez'),\n",
       " (u'q', u'khan'),\n",
       " (u's', u'con.'),\n",
       " (u's', u'davis'),\n",
       " (u's', u'shehadah'),\n",
       " (u's', u'teuber'),\n",
       " (u's', u'walker'),\n",
       " (u'sec.', u'##number##.'),\n",
       " (u't', u'sanchez'),\n",
       " (u't', u'stafford'),\n",
       " (u'v', u'board'),\n",
       " (u'v', u'bush'),\n",
       " (u'v', u'dellums'),\n",
       " (u'v', u'hansen'),\n",
       " (u'w', u'bush'),\n",
       " (u'w', u'long'),\n",
       " (u'w', u'taylor')}"
      ]
     },
     "execution_count": 309,
     "metadata": {},
     "output_type": "execute_result"
    }
   ],
   "source": [
    "params.collocations"
   ]
  },
  {
   "cell_type": "code",
   "execution_count": 376,
   "metadata": {
    "collapsed": true
   },
   "outputs": [],
   "source": [
    "import pickle\n",
    "with open('sentence_tokenizer.pickle', 'rb') as f:\n",
    "    custom_tokenizer = pickle.load(f)"
   ]
  },
  {
   "cell_type": "code",
   "execution_count": 377,
   "metadata": {
    "collapsed": false
   },
   "outputs": [],
   "source": [
    "# using the sentences in a single document to make clusters with custom tokenizer\n",
    "selection = bills.find_one({},{\"text_versions\":1, \"bill_id\":1, \"official_title\":1})\n",
    "text = selection['text_versions'].itervalues().next()\n",
    "sentences = custom_tokenizer.sentences_from_text(text)\n",
    "# sentences = nltk.sent_tokenize(text)\n",
    "\n",
    "with open('comp2.txt', 'wb') as f:\n",
    "    for i in sentences:\n",
    "        f.write('\\n***\\n')\n",
    "        f.write(i)"
   ]
  },
  {
   "cell_type": "code",
   "execution_count": 283,
   "metadata": {
    "collapsed": true
   },
   "outputs": [],
   "source": [
    "# words = nltk.word_tokenize(text)\n",
    "# custom_stop = ['sec', 'seq', 'title', 'congress', 'u.s.c']\n",
    "# stop_words = nltk.corpus.stopwords.words('english') + custom_stop\n",
    "# stopped = [i.lower() for i in words if i.lower() not in stop_words]\n",
    "# nltk.FreqDist(stopped).most_common(50)\n",
    "\n",
    "def tokenize(text):\n",
    "    words = nltk.word_tokenize(text)\n",
    "    custom_stop = ['sec'] #, 'seq', 'title', 'congress',]\n",
    "    stop_words = nltk.corpus.stopwords.words('english') + custom_stop\n",
    "    stopped = [i.lower() for i in words if i.lower() not in stop_words]\n",
    "    return stopped"
   ]
  },
  {
   "cell_type": "code",
   "execution_count": 284,
   "metadata": {
    "collapsed": true
   },
   "outputs": [],
   "source": [
    "vectorizer = TfidfVectorizer(sublinear_tf=True, tokenizer=tokenize, stop_words='english', ngram_range=(1,3), lowercase=True)\n",
    "docs = vectorizer.fit_transform(sentences)"
   ]
  },
  {
   "cell_type": "code",
   "execution_count": null,
   "metadata": {
    "collapsed": true
   },
   "outputs": [],
   "source": [
    "# using a corpus of 10,000 different bills to make clusters\n",
    "# instead of clustering on sentences of individual bills\n",
    "selection = list(bills.find({},{\"text_versions\":1, \"bill_id\":1, \"official_title\":1}).limit(10000))\n",
    "texts = [(i[\"bill_id\"], i['text_versions'].itervalues().next()) for i in selection]\n",
    "vectorizer = TfidfVectorizer(sublinear_tf=True, min_df=2, stop_words='english', lowercase=True)\n",
    "docs = vectorizer.fit_transform([i[1] for i in texts])"
   ]
  },
  {
   "cell_type": "code",
   "execution_count": 285,
   "metadata": {
    "collapsed": false
   },
   "outputs": [
    {
     "ename": "NameError",
     "evalue": "name 'MiniBatchKMeans' is not defined",
     "output_type": "error",
     "traceback": [
      "\u001b[0;31m---------------------------------------------------------------------------\u001b[0m",
      "\u001b[0;31mNameError\u001b[0m                                 Traceback (most recent call last)",
      "\u001b[0;32m<ipython-input-285-607f7e432d3a>\u001b[0m in \u001b[0;36m<module>\u001b[0;34m()\u001b[0m\n\u001b[1;32m      2\u001b[0m \u001b[0;34m\u001b[0m\u001b[0m\n\u001b[1;32m      3\u001b[0m \u001b[0mk_clusters\u001b[0m \u001b[0;34m=\u001b[0m \u001b[0;36m20\u001b[0m\u001b[0;34m\u001b[0m\u001b[0m\n\u001b[0;32m----> 4\u001b[0;31m km = MiniBatchKMeans(init='k-means++', n_init=1, init_size=1000,\n\u001b[0m\u001b[1;32m      5\u001b[0m                      batch_size=1000, n_clusters=k_clusters)\n\u001b[1;32m      6\u001b[0m \u001b[0mmodel\u001b[0m \u001b[0;34m=\u001b[0m \u001b[0mkm\u001b[0m\u001b[0;34m.\u001b[0m\u001b[0mfit\u001b[0m\u001b[0;34m(\u001b[0m\u001b[0mX\u001b[0m\u001b[0;34m)\u001b[0m\u001b[0;34m\u001b[0m\u001b[0m\n",
      "\u001b[0;31mNameError\u001b[0m: name 'MiniBatchKMeans' is not defined"
     ]
    }
   ],
   "source": [
    "from sklearn.metrics import pairwise_distances\n",
    "\n",
    "k_clusters = 20\n",
    "km = MiniBatchKMeans(init='k-means++', n_init=1, init_size=1000,\n",
    "                     batch_size=1000, n_clusters=k_clusters)\n",
    "model = km.fit(X)"
   ]
  },
  {
   "cell_type": "code",
   "execution_count": null,
   "metadata": {
    "collapsed": true
   },
   "outputs": [],
   "source": []
  }
 ],
 "metadata": {
  "kernelspec": {
   "display_name": "Python 2",
   "language": "python",
   "name": "python2"
  },
  "language_info": {
   "codemirror_mode": {
    "name": "ipython",
    "version": 2
   },
   "file_extension": ".py",
   "mimetype": "text/x-python",
   "name": "python",
   "nbconvert_exporter": "python",
   "pygments_lexer": "ipython2",
   "version": "2.7.9"
  }
 },
 "nbformat": 4,
 "nbformat_minor": 0
}
